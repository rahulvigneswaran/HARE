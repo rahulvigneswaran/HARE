{
 "cells": [
  {
   "cell_type": "code",
   "execution_count": 95,
   "id": "1e75f0ce",
   "metadata": {},
   "outputs": [],
   "source": [
    "import os\n",
    "os.environ[\"CUDA_VISIBLE_DEVICES\"]=\"0\"\n",
    "import numpy as np\n",
    "import torch\n",
    "import random\n",
    "from scipy.spatial.distance import pdist\n",
    "import time"
   ]
  },
  {
   "cell_type": "code",
   "execution_count": 146,
   "id": "0a7518c0",
   "metadata": {},
   "outputs": [],
   "source": [
    "#trying to pack 20 spheres in 10 dimensional sphere of radius 1\n",
    "d = 10\n",
    "r = 1\n",
    "k = 64\n",
    "#for packing percent p\n",
    "p = 0.64"
   ]
  },
  {
   "cell_type": "code",
   "execution_count": 147,
   "id": "22fb3077",
   "metadata": {},
   "outputs": [
    {
     "data": {
      "text/plain": [
       "1"
      ]
     },
     "metadata": {},
     "output_type": "display_data"
    },
    {
     "data": {
      "text/plain": [
       "0.7943282347242815"
      ]
     },
     "metadata": {},
     "output_type": "display_data"
    }
   ],
   "source": [
    "_r_optimal = r/np.power(k/p, 1/d)\n",
    "display(r, _r_optimal)"
   ]
  },
  {
   "cell_type": "code",
   "execution_count": 148,
   "id": "d1002292",
   "metadata": {},
   "outputs": [],
   "source": [
    "    def check_overlap(points, r):\n",
    "        dists = pdist(points, metric='euclidean')\n",
    "        #check if any distance is within 2*r\n",
    "        if (dists < 2*r).any():\n",
    "            return True\n",
    "        return False"
   ]
  },
  {
   "cell_type": "code",
   "execution_count": 149,
   "id": "d79e9c52",
   "metadata": {},
   "outputs": [],
   "source": [
    "#generate 20 random points in sphere initially\n",
    "init_points = 2*np.random.rand(k,d)-1\n",
    "init_points = r*(init_points/np.linalg.norm(init_points, axis=1, ord=2, keepdims=True))\n",
    "_r_delta = 1e-02 #always enough i think"
   ]
  },
  {
   "cell_type": "code",
   "execution_count": 150,
   "id": "b351d36c",
   "metadata": {
    "scrolled": true
   },
   "outputs": [
    {
     "name": "stdout",
     "output_type": "stream",
     "text": [
      "At iteration number 0, radius is 0.35000000000000014\n",
      "At iteration number 1, radius is 0.36000000000000015\n",
      "At iteration number 2, radius is 0.37000000000000016\n",
      "At iteration number 3, radius is 0.38000000000000017\n",
      "At iteration number 4, radius is 0.3900000000000002\n",
      "At iteration number 5, radius is 0.4000000000000002\n",
      "At iteration number 6, radius is 0.4100000000000002\n",
      "At iteration number 7, radius is 0.4200000000000002\n",
      "At iteration number 8, radius is 0.4300000000000002\n",
      "At iteration number 9, radius is 0.4400000000000002\n",
      "At iteration number 10, radius is 0.45000000000000023\n",
      "At iteration number 11, radius is 0.46000000000000024\n",
      "At iteration number 12, radius is 0.47000000000000025\n",
      "At iteration number 13, radius is 0.48000000000000026\n",
      "At iteration number 14, radius is 0.49000000000000027\n",
      "At iteration number 15, radius is 0.5000000000000002\n",
      "At iteration number 16, radius is 0.5100000000000002\n",
      "At iteration number 17, radius is 0.5200000000000002\n",
      "At iteration number 18, radius is 0.5300000000000002\n",
      "At iteration number 19, radius is 0.5400000000000003\n",
      "At iteration number 20, radius is 0.5500000000000003\n",
      "At iteration number 21, radius is 0.5600000000000003\n",
      "At iteration number 22, radius is 0.5700000000000003\n",
      "At iteration number 23, radius is 0.5800000000000003\n",
      "At iteration number 24, radius is 0.5900000000000003\n",
      "At iteration number 25, radius is 0.6000000000000003\n",
      "At iteration number 26, radius is 0.6100000000000003\n",
      "At iteration number 27, radius is 0.6200000000000003\n",
      "At iteration number 28, radius is 0.6300000000000003\n",
      "At iteration number 29, radius is 0.6400000000000003\n",
      "At iteration number 30, radius is 0.6500000000000004\n",
      "At iteration number 31, radius is 0.6600000000000004\n",
      "At iteration number 32, radius is 0.6700000000000004\n",
      "At iteration number 33, radius is 0.6800000000000004\n",
      "At iteration number 34, radius is 0.6900000000000004\n",
      "At iteration number 35, radius is 0.7000000000000004\n",
      "At iteration number 36, radius is 0.7100000000000004\n",
      "At iteration number 37, radius is 0.7200000000000004\n",
      "At iteration number 38, radius is 0.7300000000000004\n",
      "At iteration number 39, radius is 0.7400000000000004\n",
      "At iteration number 40, radius is 0.7500000000000004\n",
      "At iteration number 41, radius is 0.7600000000000005\n",
      "At iteration number 42, radius is 0.7700000000000005\n",
      "At iteration number 43, radius is 0.7800000000000005\n",
      "At iteration number 44, radius is 0.7900000000000005\n",
      "At iteration number 45, radius is 0.8000000000000005\n"
     ]
    }
   ],
   "source": [
    "#perturb till there is no overlap and increase radius occasionally\n",
    "points = init_points.copy()\n",
    "_r = 0.0\n",
    "i = 0\n",
    "stime = time.time()\n",
    "while _r < _r_optimal:\n",
    "    if time.time() - stime > 30:\n",
    "        break\n",
    "    #keep increasing radius till there is overlap\n",
    "    while not check_overlap(points, _r):\n",
    "        _r += _r_delta\n",
    "    print(f\"At iteration number {i}, radius is {_r}\")\n",
    "    #now perturb points till there is no overlap\n",
    "    j=1\n",
    "    perturb = 1e-02\n",
    "    while check_overlap(points, _r):\n",
    "        if perturb > _r_optimal:\n",
    "            break\n",
    "        if j%100==0:\n",
    "            perturb += 5e-03\n",
    "        z = 2*np.random.rand(k,d)-1\n",
    "        z = perturb *(z/np.linalg.norm(z, axis=1, ord=2, keepdims=True))\n",
    "        points = points + z\n",
    "#         mask = (np.linalg.norm(points, axis=1, ord=2) > r)\n",
    "#         if mask.any():\n",
    "#             #some points outside the sphere\n",
    "#             points[mask] = r*(points[mask]/np.linalg.norm(points[mask], axis=1, ord=2, keepdims=True))\n",
    "        j+=1\n",
    "    i+=1"
   ]
  },
  {
   "cell_type": "code",
   "execution_count": 151,
   "id": "b4abb11e",
   "metadata": {},
   "outputs": [
    {
     "name": "stdout",
     "output_type": "stream",
     "text": [
      "[2.26070116 2.80399836 2.00036066 2.51018246 2.21242054 2.39205777\n",
      " 2.14040919 2.44621882 1.87749968 2.08760149 2.1150994  2.08639821\n",
      " 2.24492982 2.47588026 1.94702746 2.33029779 2.55236836 2.08981488\n",
      " 1.88101354 1.71808722 2.17674509 1.4048025  1.62934565 2.0881571\n",
      " 1.80667348 2.31110779 2.10215226 2.17787561 2.45146813 1.56914888\n",
      " 1.84396822 2.27283447 1.77760945 1.84364935 1.8847432  2.33287627\n",
      " 2.71377996 1.88271817 1.90310576 2.19718861 2.20417165 1.52334394\n",
      " 2.38134533 1.61171377 1.76316439 1.87908038 2.14925506 1.64828611\n",
      " 2.00324407 2.19657221 1.84592804 1.44369781 2.12160828 1.80250423\n",
      " 1.86786747 2.2900379  2.24857228 2.11087506 1.75650148 1.47882381\n",
      " 1.96918029 1.69306449 2.06396683 2.38517569]\n"
     ]
    }
   ],
   "source": [
    "print(np.linalg.norm(points, axis=1, ord=2))\n",
    "points = r*(points/np.linalg.norm(points, axis=1, ord=2, keepdims=True))"
   ]
  },
  {
   "cell_type": "code",
   "execution_count": null,
   "id": "14aa2f99",
   "metadata": {},
   "outputs": [],
   "source": []
  }
 ],
 "metadata": {
  "kernelspec": {
   "display_name": "Python 3 (ipykernel)",
   "language": "python",
   "name": "python3"
  },
  "language_info": {
   "codemirror_mode": {
    "name": "ipython",
    "version": 3
   },
   "file_extension": ".py",
   "mimetype": "text/x-python",
   "name": "python",
   "nbconvert_exporter": "python",
   "pygments_lexer": "ipython3",
   "version": "3.7.13"
  }
 },
 "nbformat": 4,
 "nbformat_minor": 5
}
